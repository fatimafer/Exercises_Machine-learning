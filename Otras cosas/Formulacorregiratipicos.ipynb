{
 "cells": [
  {
   "cell_type": "code",
   "execution_count": null,
   "metadata": {},
   "outputs": [],
   "source": [
    "#Lista atípicos\n",
    "listaatipicos = ['porc_Fish','porc_Meat','porc_Fruits','porc_Sweet','porc_Gold','Spendings','porc_Catalogpurchases','porc_Webpurchases','porc_Storepurchases','porc_Dealpurchases']\n",
    "#Creamos un bucle para recorrer la lista y corregir atípicos\n",
    "for j in range (len(listaatipicos)):\n",
    "#Creamos una columna para guardar los nuevos valores que le demos a los datos atípicos\n",
    "        df_marketing2['nuevosvalores'] = df_marketing2[listaatipicos[j]]\n",
    "#Con esta variable creamos un df solo con los los valores del atípico\n",
    "        df_atipicos = df_marketing[[listaatipicos[j]]]\n",
    "#Calculamos los cuartiles\n",
    "        qs = df_atipicos.quantile([.25, .5, .75], numeric_only=True).values\n",
    "        q1 = qs[0][0]\n",
    "        q2 = qs[1][0]\n",
    "        q3 = qs[2][0]\n",
    "# Definir límites inferior y superior, a partir de los cuales los datos serían considerados como atípicos\n",
    "        iqr = q3-q1\n",
    "        iqr_lim_inf = q1 - 1.5*iqr\n",
    "        iqr_lim_sup = q3 + 1.5*iqr\n",
    "#Aquí le indicamos que cuando encuentre un valor superior al límite que hemos definido, \n",
    "#que nos lo reemplace por el valor asignado al límite superior\n",
    "#Y viceversa\n",
    "        df_marketing2['nuevosvalores'] = df_marketing2[listaatipicos[j]].apply(\n",
    "        lambda x: iqr_lim_sup if x > iqr_lim_sup else (iqr_lim_inf if x < iqr_lim_inf else x))\n",
    "#Sustituimos esos nuevos valores en la columna 'Pieces'\n",
    "        df_marketing2[listaatipicos[j]] = df_marketing2['nuevosvalores']\n",
    "#Y eliminamos la columna auxiliar que no nos va a hacer falta\n",
    "        df_marketing2.pop('nuevosvalores')"
   ]
  }
 ],
 "metadata": {
  "language_info": {
   "name": "python"
  },
  "orig_nbformat": 4
 },
 "nbformat": 4,
 "nbformat_minor": 2
}
