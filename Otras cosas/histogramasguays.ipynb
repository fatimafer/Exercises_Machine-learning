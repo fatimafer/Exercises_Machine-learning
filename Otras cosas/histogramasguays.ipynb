{
 "cells": [
  {
   "cell_type": "code",
   "execution_count": null,
   "metadata": {},
   "outputs": [],
   "source": [
    "Como hacer histográmas rápido"
   ]
  },
  {
   "cell_type": "code",
   "execution_count": null,
   "metadata": {},
   "outputs": [],
   "source": [
    "# Representamos el histograma\n",
    "\n",
    "#hacemos una lista con las variables que queremos usar\n",
    "listavariables = ['convex_area','eqdiasq']\n",
    "\n",
    "#Guardamos todos los valores que puede tomar target en una lista\n",
    "listatarget = list(df_fruits.target.unique())\n",
    "kwargs = dict(alpha=0.3,bins=25)\n",
    "fig, axes = plt.subplots(nrows=(len(listavariables)), ncols=1, figsize=(10,10))\n",
    "fig.subplots_adjust(hspace=0.4)\n",
    "for i in range(len(listavariables)):\n",
    "    for j in range(len(listatarget)):\n",
    "        xj = df_fruits.loc[df_fruits.target==listatarget[j], listavariables[i]]\n",
    "        axes[i].hist(xj, **kwargs, label='Tipo 0')\n",
    "    axes[i].set_title(f'Frecuencia de {listavariables[i]} por tipo de dátil')\n",
    "    axes[i].set_xlabel(f'Cantidad de {listavariables[i]} por tipo de dátil')\n",
    "    axes[i].set_ylabel('Frecuencia')\n",
    "plt.show()"
   ]
  }
 ],
 "metadata": {
  "language_info": {
   "name": "python"
  },
  "orig_nbformat": 4
 },
 "nbformat": 4,
 "nbformat_minor": 2
}
